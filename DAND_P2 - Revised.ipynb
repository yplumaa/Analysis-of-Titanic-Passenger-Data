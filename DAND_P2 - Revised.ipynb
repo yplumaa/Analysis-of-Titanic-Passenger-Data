{
 "cells": [
  {
   "cell_type": "markdown",
   "metadata": {},
   "source": [
    "# NAND Project 2: Analysis of Titanic Passenger Data"
   ]
  },
  {
   "cell_type": "markdown",
   "metadata": {},
   "source": [
    "## Purpose of Analysis\n",
    "\n",
    "The data set contains the following information about 891 of 2224 passengers on board of Titanic. \n",
    "\n",
    "        survival        Survival\n",
    "                        (0 = No; 1 = Yes)\n",
    "        pclass          Passenger Class\n",
    "                        (1 = 1st; 2 = 2nd; 3 = 3rd)\n",
    "        name            Name\n",
    "        sex             Sex\n",
    "        age             Age\n",
    "        sibsp           Number of Siblings/Spouses Aboard\n",
    "        parch           Number of Parents/Children Aboard\n",
    "        ticket          Ticket Number\n",
    "        fare            Passenger Fare\n",
    "        cabin           Cabin\n",
    "        embarked        Port of Embarkation\n",
    "                        (C = Cherbourg; Q = Queenstown; S = Southampton)\n",
    "                  \n",
    "With data analysis we can possible answer the following questions:\n",
    "\n",
    "1. What are the survival rate of all passengers? What are the rate among male and female respectively?\n",
    "2. What is the age distribution of passenger? What is the age distribution of survivors? Are there a statistical proof that younger people were giving priority to survive?\n",
    "3. Were first class passengers given priority to survive?\n",
    "4. Are the people with family on board given priority to survive?\n",
    "5. Can this sample represent the whole population of passengers on board?"
   ]
  },
  {
   "cell_type": "markdown",
   "metadata": {},
   "source": [
    "## Step I: Accquiring and Importing Data Set:\n",
    "\n",
    "First, the csv file is imported in as a pandas data frame. First 5 rows are displayed."
   ]
  },
  {
   "cell_type": "code",
   "execution_count": 1,
   "metadata": {
    "collapsed": false
   },
   "outputs": [
    {
     "name": "stdout",
     "output_type": "stream",
     "text": [
      "Populating the interactive namespace from numpy and matplotlib\n"
     ]
    },
    {
     "data": {
      "text/html": [
       "<div>\n",
       "<table border=\"1\" class=\"dataframe\">\n",
       "  <thead>\n",
       "    <tr style=\"text-align: right;\">\n",
       "      <th></th>\n",
       "      <th>PassengerId</th>\n",
       "      <th>Survived</th>\n",
       "      <th>Pclass</th>\n",
       "      <th>Name</th>\n",
       "      <th>Sex</th>\n",
       "      <th>Age</th>\n",
       "      <th>SibSp</th>\n",
       "      <th>Parch</th>\n",
       "      <th>Ticket</th>\n",
       "      <th>Fare</th>\n",
       "      <th>Cabin</th>\n",
       "      <th>Embarked</th>\n",
       "    </tr>\n",
       "  </thead>\n",
       "  <tbody>\n",
       "    <tr>\n",
       "      <th>0</th>\n",
       "      <td>1</td>\n",
       "      <td>0</td>\n",
       "      <td>3</td>\n",
       "      <td>Braund, Mr. Owen Harris</td>\n",
       "      <td>male</td>\n",
       "      <td>22.0</td>\n",
       "      <td>1</td>\n",
       "      <td>0</td>\n",
       "      <td>A/5 21171</td>\n",
       "      <td>7.2500</td>\n",
       "      <td>NaN</td>\n",
       "      <td>S</td>\n",
       "    </tr>\n",
       "    <tr>\n",
       "      <th>1</th>\n",
       "      <td>2</td>\n",
       "      <td>1</td>\n",
       "      <td>1</td>\n",
       "      <td>Cumings, Mrs. John Bradley (Florence Briggs Th...</td>\n",
       "      <td>female</td>\n",
       "      <td>38.0</td>\n",
       "      <td>1</td>\n",
       "      <td>0</td>\n",
       "      <td>PC 17599</td>\n",
       "      <td>71.2833</td>\n",
       "      <td>C85</td>\n",
       "      <td>C</td>\n",
       "    </tr>\n",
       "    <tr>\n",
       "      <th>2</th>\n",
       "      <td>3</td>\n",
       "      <td>1</td>\n",
       "      <td>3</td>\n",
       "      <td>Heikkinen, Miss. Laina</td>\n",
       "      <td>female</td>\n",
       "      <td>26.0</td>\n",
       "      <td>0</td>\n",
       "      <td>0</td>\n",
       "      <td>STON/O2. 3101282</td>\n",
       "      <td>7.9250</td>\n",
       "      <td>NaN</td>\n",
       "      <td>S</td>\n",
       "    </tr>\n",
       "    <tr>\n",
       "      <th>3</th>\n",
       "      <td>4</td>\n",
       "      <td>1</td>\n",
       "      <td>1</td>\n",
       "      <td>Futrelle, Mrs. Jacques Heath (Lily May Peel)</td>\n",
       "      <td>female</td>\n",
       "      <td>35.0</td>\n",
       "      <td>1</td>\n",
       "      <td>0</td>\n",
       "      <td>113803</td>\n",
       "      <td>53.1000</td>\n",
       "      <td>C123</td>\n",
       "      <td>S</td>\n",
       "    </tr>\n",
       "    <tr>\n",
       "      <th>4</th>\n",
       "      <td>5</td>\n",
       "      <td>0</td>\n",
       "      <td>3</td>\n",
       "      <td>Allen, Mr. William Henry</td>\n",
       "      <td>male</td>\n",
       "      <td>35.0</td>\n",
       "      <td>0</td>\n",
       "      <td>0</td>\n",
       "      <td>373450</td>\n",
       "      <td>8.0500</td>\n",
       "      <td>NaN</td>\n",
       "      <td>S</td>\n",
       "    </tr>\n",
       "  </tbody>\n",
       "</table>\n",
       "</div>"
      ],
      "text/plain": [
       "   PassengerId  Survived  Pclass  \\\n",
       "0            1         0       3   \n",
       "1            2         1       1   \n",
       "2            3         1       3   \n",
       "3            4         1       1   \n",
       "4            5         0       3   \n",
       "\n",
       "                                                Name     Sex   Age  SibSp  \\\n",
       "0                            Braund, Mr. Owen Harris    male  22.0      1   \n",
       "1  Cumings, Mrs. John Bradley (Florence Briggs Th...  female  38.0      1   \n",
       "2                             Heikkinen, Miss. Laina  female  26.0      0   \n",
       "3       Futrelle, Mrs. Jacques Heath (Lily May Peel)  female  35.0      1   \n",
       "4                           Allen, Mr. William Henry    male  35.0      0   \n",
       "\n",
       "   Parch            Ticket     Fare Cabin Embarked  \n",
       "0      0         A/5 21171   7.2500   NaN        S  \n",
       "1      0          PC 17599  71.2833   C85        C  \n",
       "2      0  STON/O2. 3101282   7.9250   NaN        S  \n",
       "3      0            113803  53.1000  C123        S  \n",
       "4      0            373450   8.0500   NaN        S  "
      ]
     },
     "execution_count": 1,
     "metadata": {},
     "output_type": "execute_result"
    }
   ],
   "source": [
    "%pylab inline\n",
    "import matplotlib.pyplot as plt\n",
    "import numpy as np\n",
    "import pandas as pd\n",
    "import seaborn as sns\n",
    "\n",
    "filename = 'titanic-data.csv'\n",
    "titanic_df = pd.read_csv(filename)\n",
    "\n",
    "titanic_df.head(5)"
   ]
  },
  {
   "cell_type": "markdown",
   "metadata": {
    "collapsed": true
   },
   "source": [
    "## Step II: Data Wrangling\n",
    "\n",
    "### 1. Check if there is any missing data in each column."
   ]
  },
  {
   "cell_type": "code",
   "execution_count": 2,
   "metadata": {
    "collapsed": false
   },
   "outputs": [
    {
     "name": "stdout",
     "output_type": "stream",
     "text": [
      "891\n",
      "PassengerId      0\n",
      "Survived         0\n",
      "Pclass           0\n",
      "Name             0\n",
      "Sex              0\n",
      "Age            177\n",
      "SibSp            0\n",
      "Parch            0\n",
      "Ticket           0\n",
      "Fare             0\n",
      "Cabin          687\n",
      "Embarked         2\n",
      "dtype: int64\n"
     ]
    }
   ],
   "source": [
    "print len(titanic_df)\n",
    "print titanic_df.isnull().sum()"
   ]
  },
  {
   "cell_type": "markdown",
   "metadata": {},
   "source": [
    "So there are 177 record missing the age of the passengers. There are more missing records for Cabin info, but I probably won't use the info in 'Cabin' and 'Embarked'."
   ]
  },
  {
   "cell_type": "markdown",
   "metadata": {},
   "source": [
    "### 2. Check if there are any duplicated rows"
   ]
  },
  {
   "cell_type": "code",
   "execution_count": 3,
   "metadata": {
    "collapsed": false
   },
   "outputs": [
    {
     "name": "stdout",
     "output_type": "stream",
     "text": [
      "0\n"
     ]
    }
   ],
   "source": [
    "print titanic_df.duplicated().sum()"
   ]
  },
  {
   "cell_type": "markdown",
   "metadata": {},
   "source": [
    "No duplicate information is found."
   ]
  },
  {
   "cell_type": "markdown",
   "metadata": {},
   "source": [
    "### 3.Check if there are any strange numbers in each column"
   ]
  },
  {
   "cell_type": "code",
   "execution_count": 4,
   "metadata": {
    "collapsed": false
   },
   "outputs": [
    {
     "data": {
      "text/plain": [
       "PassengerId                            891\n",
       "Survived                                 1\n",
       "Pclass                                   3\n",
       "Name           van Melkebeke, Mr. Philemon\n",
       "Sex                                   male\n",
       "Age                                     80\n",
       "SibSp                                    8\n",
       "Parch                                    6\n",
       "Ticket                           WE/P 5735\n",
       "Fare                               512.329\n",
       "Cabin                                    T\n",
       "Embarked                                 S\n",
       "dtype: object"
      ]
     },
     "execution_count": 4,
     "metadata": {},
     "output_type": "execute_result"
    }
   ],
   "source": [
    "titanic_df.max()"
   ]
  },
  {
   "cell_type": "code",
   "execution_count": 5,
   "metadata": {
    "collapsed": false
   },
   "outputs": [
    {
     "data": {
      "text/plain": [
       "PassengerId                      1\n",
       "Survived                         0\n",
       "Pclass                           1\n",
       "Name           Abbing, Mr. Anthony\n",
       "Sex                         female\n",
       "Age                           0.42\n",
       "SibSp                            0\n",
       "Parch                            0\n",
       "Ticket                      110152\n",
       "Fare                             0\n",
       "Cabin                          inf\n",
       "Embarked                       inf\n",
       "dtype: object"
      ]
     },
     "execution_count": 5,
     "metadata": {},
     "output_type": "execute_result"
    }
   ],
   "source": [
    "titanic_df.min()"
   ]
  },
  {
   "cell_type": "markdown",
   "metadata": {},
   "source": [
    "It doesn't look like there is any out of range number in the data, besides the NaNs."
   ]
  },
  {
   "cell_type": "markdown",
   "metadata": {},
   "source": [
    "## Data Exploration"
   ]
  },
  {
   "cell_type": "markdown",
   "metadata": {},
   "source": [
    "### 1. Male or Female"
   ]
  },
  {
   "cell_type": "markdown",
   "metadata": {},
   "source": [
    "First let's look at the whole group."
   ]
  },
  {
   "cell_type": "code",
   "execution_count": 6,
   "metadata": {
    "collapsed": false
   },
   "outputs": [
    {
     "name": "stdout",
     "output_type": "stream",
     "text": [
      "There are totally 891 passengers in this sample group.\n",
      "There are 342 passengers survived.\n",
      "The survival Rate is: 0.38\n"
     ]
    }
   ],
   "source": [
    "def survive_rate(group_df):\n",
    "    return group_df['Survived'].mean()\n",
    "\n",
    "def print_survival_rate(group_df):\n",
    "    print 'There are totally {0} passengers in this sample group.'.format(len(group_df))\n",
    "    print 'There are {0} passengers survived.'.format(group_df['Survived'].sum())\n",
    "    print 'The survival Rate is: {:0,.2f}'.format(survive_rate(group_df))\n",
    "\n",
    "print_survival_rate(titanic_df)"
   ]
  },
  {
   "cell_type": "markdown",
   "metadata": {},
   "source": [
    "Then group the passengers by gender and calculate survival rate for each group:"
   ]
  },
  {
   "cell_type": "code",
   "execution_count": 7,
   "metadata": {
    "collapsed": false
   },
   "outputs": [
    {
     "data": {
      "text/plain": [
       "Sex\n",
       "female    314\n",
       "male      577\n",
       "dtype: int64"
      ]
     },
     "execution_count": 7,
     "metadata": {},
     "output_type": "execute_result"
    }
   ],
   "source": [
    "titanic_df.groupby('Sex').apply(len)"
   ]
  },
  {
   "cell_type": "code",
   "execution_count": 8,
   "metadata": {
    "collapsed": false
   },
   "outputs": [
    {
     "data": {
      "text/plain": [
       "Sex\n",
       "female    0.742038\n",
       "male      0.188908\n",
       "dtype: float64"
      ]
     },
     "execution_count": 8,
     "metadata": {},
     "output_type": "execute_result"
    }
   ],
   "source": [
    "titanic_df.groupby('Sex').apply(survive_rate)"
   ]
  },
  {
   "cell_type": "markdown",
   "metadata": {},
   "source": [
    "There are 314 female passengers (35%) and 577 male passengers (65%).  \n",
    "Female survival rate 74% is dramatically higher than male survival rate 19%.\n",
    "\n",
    "### 2. Age Distribution and Children Priority\n",
    "\n",
    "\n"
   ]
  },
  {
   "cell_type": "markdown",
   "metadata": {},
   "source": [
    "First remove 'Cabin' and 'Embarked' Columns, then drop the records without age info. There should be 891-177=714 records left."
   ]
  },
  {
   "cell_type": "code",
   "execution_count": 9,
   "metadata": {
    "collapsed": false
   },
   "outputs": [
    {
     "name": "stdout",
     "output_type": "stream",
     "text": [
      "There are totally 714 passengers in this sample group.\n",
      "There are 290 passengers survived.\n",
      "The survival Rate is: 0.41\n"
     ]
    }
   ],
   "source": [
    "titanic_age_df=titanic_df.drop(['Cabin','Embarked'],axis=1).dropna()\n",
    "print_survival_rate(titanic_age_df)"
   ]
  },
  {
   "cell_type": "markdown",
   "metadata": {},
   "source": [
    "Notice this survival rate of the whole age group 41% is higher than the whole sample group 38%. This means for the passenger records without age information the survival rate is lower than average."
   ]
  },
  {
   "cell_type": "markdown",
   "metadata": {},
   "source": [
    "Plot the age distribution of the whole group."
   ]
  },
  {
   "cell_type": "code",
   "execution_count": 10,
   "metadata": {
    "collapsed": false
   },
   "outputs": [
    {
     "data": {
      "image/png": "[encoded data removed]",
      "text/plain": [
       "<matplotlib.figure.Figure at 0xaac93c8>"
      ]
     },
     "metadata": {},
     "output_type": "display_data"
    }
   ],
   "source": [
    "def age_hist(group_df):\n",
    "    hist=group_df['Age'].hist()\n",
    "    hist.set_xlabel('Age [years]')\n",
    "    hist.set_ylabel('Number of Passenger')\n",
    "    \n",
    "age_hist(titanic_df)"
   ]
  },
  {
   "cell_type": "markdown",
   "metadata": {},
   "source": [
    "In comparison, the age ditribution of the survived group:"
   ]
  },
  {
   "cell_type": "code",
   "execution_count": 11,
   "metadata": {
    "collapsed": false
   },
   "outputs": [
    {
     "data": {
      "image/png": "[encoded data removed]",
      "text/plain": [
       "<matplotlib.figure.Figure at 0xac2f550>"
      ]
     },
     "metadata": {},
     "output_type": "display_data"
    }
   ],
   "source": [
    "# Create a seperate group for survivors with age data\n",
    "survivors_age_df=titanic_age_df[titanic_age_df['Survived']==1]\n",
    "#Histogram of survivor's ages\n",
    "age_hist(survivors_age_df)\n"
   ]
  },
  {
   "cell_type": "markdown",
   "metadata": {},
   "source": [
    "The age distributions don't show significant difference. So let's look at the statistics:"
   ]
  },
  {
   "cell_type": "code",
   "execution_count": 12,
   "metadata": {
    "collapsed": false
   },
   "outputs": [
    {
     "data": {
      "text/plain": [
       "Survived       \n",
       "0         count    424.000000\n",
       "          mean      30.626179\n",
       "          std       14.172110\n",
       "          min        1.000000\n",
       "          25%       21.000000\n",
       "          50%       28.000000\n",
       "          75%       39.000000\n",
       "          max       74.000000\n",
       "1         count    290.000000\n",
       "          mean      28.343690\n",
       "          std       14.950952\n",
       "          min        0.420000\n",
       "          25%       19.000000\n",
       "          50%       28.000000\n",
       "          75%       36.000000\n",
       "          max       80.000000\n",
       "Name: Age, dtype: float64"
      ]
     },
     "execution_count": 12,
     "metadata": {},
     "output_type": "execute_result"
    }
   ],
   "source": [
    "titanic_age_df.groupby('Survived')['Age'].describe()"
   ]
  },
  {
   "cell_type": "markdown",
   "metadata": {},
   "source": [
    "There are not obvious difference on age statistics among the survival and non-survival groups.   \n",
    "The survival rate within each age range can be plotted as:"
   ]
  },
  {
   "cell_type": "code",
   "execution_count": 88,
   "metadata": {
    "collapsed": false
   },
   "outputs": [
    {
     "data": {
      "text/plain": [
       "<matplotlib.axes._subplots.AxesSubplot at 0x11a51128>"
      ]
     },
     "execution_count": 88,
     "metadata": {},
     "output_type": "execute_result"
    },
    {
     "data": {
      "image/png": "[encoded data removed]",
      "text/plain": [
       "<matplotlib.figure.Figure at 0x11a677b8>"
      ]
     },
     "metadata": {},
     "output_type": "display_data"
    }
   ],
   "source": [
    "titanic_age_df.groupby(pd.cut(titanic_age_df['Age'], np.arange(0, 90, 10)))['Survived'].mean().plot(kind='bar')"
   ]
  },
  {
   "cell_type": "markdown",
   "metadata": {},
   "source": [
    "Furthermore, if we assume anyone less than 18 years old is a child. We can exame the subgroup of age <18."
   ]
  },
  {
   "cell_type": "code",
   "execution_count": 14,
   "metadata": {
    "collapsed": false
   },
   "outputs": [
    {
     "name": "stdout",
     "output_type": "stream",
     "text": [
      "Among children (Age<18):\n",
      "There are totally 113 passengers in this sample group.\n",
      "There are 61 passengers survived.\n",
      "The survival Rate is: 0.54\n",
      "\n",
      "Survival rates among childre: boys vs girls:\n",
      "Sex\n",
      "female    0.690909\n",
      "male      0.396552\n",
      "dtype: float64\n"
     ]
    }
   ],
   "source": [
    "#Add one column to the data indication if the survivor is a child (age<18)\n",
    "titanic_age_df['is_child']=titanic_age_df['Age']<18\n",
    "# Create seperate group for children\n",
    "children_df=titanic_age_df[titanic_age_df['is_child']==True]\n",
    "print 'Among children (Age<18):'\n",
    "print_survival_rate(children_df)\n",
    "print '\\nSurvival rates among childre: boys vs girls:'\n",
    "print children_df.groupby(['Sex']).apply(survive_rate)"
   ]
  },
  {
   "cell_type": "markdown",
   "metadata": {
    "collapsed": false
   },
   "source": [
    "There does seem to higher survival rate among children 54% vs the all age group of 41%, but not significantly. Especially, the female survivor rate among children is lower than that of adults. That means age alone does not predict the likelyhood of surviving. We should look at the other parameters. "
   ]
  },
  {
   "cell_type": "markdown",
   "metadata": {},
   "source": [
    "### 3. Passenger Class"
   ]
  },
  {
   "cell_type": "markdown",
   "metadata": {},
   "source": [
    "The breakdown of passengers in each class is as follows:"
   ]
  },
  {
   "cell_type": "code",
   "execution_count": 15,
   "metadata": {
    "collapsed": false
   },
   "outputs": [
    {
     "data": {
      "text/plain": [
       "Pclass\n",
       "1    216\n",
       "2    184\n",
       "3    491\n",
       "dtype: int64"
      ]
     },
     "execution_count": 15,
     "metadata": {},
     "output_type": "execute_result"
    }
   ],
   "source": [
    "titanic_df.groupby('Pclass').apply(len)"
   ]
  },
  {
   "cell_type": "markdown",
   "metadata": {},
   "source": [
    "Plot these in histogram:"
   ]
  },
  {
   "cell_type": "code",
   "execution_count": 16,
   "metadata": {
    "collapsed": false
   },
   "outputs": [
    {
     "data": {
      "image/png": "[encoded data removed]",
      "text/plain": [
       "<matplotlib.figure.Figure at 0xadf4908>"
      ]
     },
     "metadata": {},
     "output_type": "display_data"
    }
   ],
   "source": [
    "def pclass_hist(group_df):\n",
    "    hist=group_df['Pclass'].hist(bins=3)\n",
    "    hist.set_xlabel('Passenger Class')\n",
    "    hist.set_ylabel('Number of Passenger')\n",
    "\n",
    "#Plot the passenger class distribution of the whole group\n",
    "pclass_hist(titanic_df)"
   ]
  },
  {
   "cell_type": "markdown",
   "metadata": {},
   "source": [
    "In comparison, plot the histogram of passenger classes among survivors:"
   ]
  },
  {
   "cell_type": "code",
   "execution_count": 17,
   "metadata": {
    "collapsed": false
   },
   "outputs": [
    {
     "data": {
      "image/png": "[encoded data removed]",
      "text/plain": [
       "<matplotlib.figure.Figure at 0xae04fd0>"
      ]
     },
     "metadata": {},
     "output_type": "display_data"
    }
   ],
   "source": [
    "# Create a seperate group for survivors and non-survivors\n",
    "survivors_df=titanic_df[titanic_df['Survived']==1]\n",
    "pclass_hist(survivors_df)"
   ]
  },
  {
   "cell_type": "markdown",
   "metadata": {},
   "source": [
    "There are more survivors in first class than other two classes. This can be also observed from survival rate:"
   ]
  },
  {
   "cell_type": "code",
   "execution_count": 18,
   "metadata": {
    "collapsed": false
   },
   "outputs": [
    {
     "name": "stdout",
     "output_type": "stream",
     "text": [
      "Survival rate for each class\n",
      "Pclass\n",
      "1    0.655914\n",
      "2    0.479769\n",
      "3    0.239437\n",
      "dtype: float64\n",
      "\n",
      "Survival rates for each class: female vs. male\n",
      "Pclass  Sex   \n",
      "1       female    0.968085\n",
      "        male      0.368852\n",
      "2       female    0.921053\n",
      "        male      0.157407\n",
      "3       female    0.500000\n",
      "        male      0.135447\n",
      "dtype: float64\n"
     ]
    }
   ],
   "source": [
    "print 'Survival rate for each class'\n",
    "print titanic_age_df.groupby(['Pclass']).apply(survive_rate)\n",
    "print '\\nSurvival rates for each class: female vs. male'\n",
    "print titanic_df.groupby(['Pclass','Sex']).apply(survive_rate)"
   ]
  },
  {
   "cell_type": "markdown",
   "metadata": {
    "collapsed": false
   },
   "source": [
    "   Females in the 1st and 2nd class have the highest survival rates (96% and 92%). Third class passengers were least likely to survive.\n",
    "   \n",
    "   Now focus on the children group (age<18):"
   ]
  },
  {
   "cell_type": "code",
   "execution_count": 19,
   "metadata": {
    "collapsed": false
   },
   "outputs": [
    {
     "data": {
      "image/png": "[encoded data removed]",
      "text/plain": [
       "<matplotlib.figure.Figure at 0xbfa4780>"
      ]
     },
     "metadata": {},
     "output_type": "display_data"
    }
   ],
   "source": [
    "#Plot histogram of class for children\n",
    "pclass_hist(children_df)"
   ]
  },
  {
   "cell_type": "markdown",
   "metadata": {},
   "source": [
    "So majority of children were in the third class. This explains why children did not have a much higher overal survival rate."
   ]
  },
  {
   "cell_type": "code",
   "execution_count": 20,
   "metadata": {
    "collapsed": false
   },
   "outputs": [
    {
     "name": "stdout",
     "output_type": "stream",
     "text": [
      "Pclass  is_child\n",
      "1       False       0.637931\n",
      "        True        0.916667\n",
      "2       False       0.413333\n",
      "        True        0.913043\n",
      "3       False       0.202166\n",
      "        True        0.371795\n",
      "dtype: float64\n"
     ]
    }
   ],
   "source": [
    "print titanic_age_df.groupby(['Pclass','is_child']).apply(survive_rate)"
   ]
  },
  {
   "cell_type": "markdown",
   "metadata": {},
   "source": [
    "So children (Age<18) did have higher survival rate within each passenger class. The overall survival rate was dragged down by the thrid class children.\n",
    "\n",
    "Now the distribution of survivors and non-survivors across age and class can be viewed as voilin plots. The survivor plot is shown in red and the non-survivor plot is shown in blue as follows:"
   ]
  },
  {
   "cell_type": "code",
   "execution_count": 83,
   "metadata": {
    "collapsed": false
   },
   "outputs": [
    {
     "data": {
      "text/plain": [
       "<matplotlib.text.Text at 0x107c97f0>"
      ]
     },
     "execution_count": 83,
     "metadata": {},
     "output_type": "execute_result"
    },
    {
     "data": {
      "image/png": "[encoded data removed]",
      "text/plain": [
       "<matplotlib.figure.Figure at 0xaa4e630>"
      ]
     },
     "metadata": {},
     "output_type": "display_data"
    }
   ],
   "source": [
    "# Create a seperate group for survivors and non-survivors with age info\n",
    "survivors_age_df=titanic_age_df[titanic_age_df['Survived']==1]\n",
    "non_survivors_age_df=titanic_age_df[titanic_age_df['Survived']==0]\n",
    "\n",
    "def set_violin_colors(violin_parts, fillcolor,linecolor):\n",
    "    for pc in violin_parts['bodies']:\n",
    "        pc.set_facecolors(fillcolor)\n",
    "        pc.set_edgecolors(fillcolor)\n",
    "    violin_parts['cbars'].set_color(linecolor)\n",
    "    violin_parts['cmaxes'].set_color(linecolor)\n",
    "    violin_parts['cmins'].set_color(linecolor)\n",
    "    violin_parts['cmeans'].set_color(linecolor)\n",
    "\n",
    "#all_data=[np.random.normal(0,std,100) for std in range(6,10)]\n",
    "#all_data\n",
    "# First Class Age info:\n",
    "\n",
    "plt.figure()\n",
    "ax=plt.subplot(111)\n",
    "survivor_age_class=[survivors_age_df[survivors_age_df['Pclass']==i]['Age'].values for i in range(1,4)]\n",
    "s_plot=plt.violinplot(survivor_age_class, showmeans=True)\n",
    "set_violin_colors(s_plot,'red','red')\n",
    "\n",
    "non_survivor_age_class=[non_survivors_age_df[non_survivors_age_df['Pclass']==i]['Age'].values for i in range(1,4)]\n",
    "ns_plot=plt.violinplot(non_survivor_age_class, showmeans=True)\n",
    "set_violin_colors(ns_plot,'blue','blue')\n",
    "\n",
    "plt.ylabel('Age[year]')\n",
    "plt.xlabel('Passenger Class')"
   ]
  },
  {
   "cell_type": "markdown",
   "metadata": {},
   "source": [
    "If break down each passenger class by children or adults and gender:"
   ]
  },
  {
   "cell_type": "code",
   "execution_count": null,
   "metadata": {
    "collapsed": false
   },
   "outputs": [],
   "source": [
    "titanic_age_df.groupby(['Pclass','is_child','Sex',]).apply(len)"
   ]
  },
  {
   "cell_type": "code",
   "execution_count": null,
   "metadata": {
    "collapsed": false
   },
   "outputs": [],
   "source": [
    "titanic_age_df.groupby(['Pclass','is_child','Sex',]).apply(survive_rate)"
   ]
  },
  {
   "cell_type": "markdown",
   "metadata": {},
   "source": [
    "In the first class for this sample, one girl out of 8 didn't survive, while all 4 boys survived. In the second class, all 12 girls survived."
   ]
  },
  {
   "cell_type": "markdown",
   "metadata": {},
   "source": [
    "### 4. Family Memebers"
   ]
  },
  {
   "cell_type": "code",
   "execution_count": null,
   "metadata": {
    "collapsed": false
   },
   "outputs": [],
   "source": [
    "# First add one column to the data indicating is family number is on board\n",
    "titanic_df['has_family']=(titanic_df['SibSp']+titanic_df['Parch'])>0\n",
    "print titanic_df['has_family'].sum()\n",
    "titanic_df.groupby(['has_family']).apply(survive_rate)"
   ]
  },
  {
   "cell_type": "markdown",
   "metadata": {},
   "source": [
    "There is slightly higher survival rate for passengers with family on board."
   ]
  },
  {
   "cell_type": "code",
   "execution_count": null,
   "metadata": {
    "collapsed": false
   },
   "outputs": [],
   "source": [
    "# First add one column to the data indicating is family number is on board\n",
    "titanic_age_df['is_parch']=(titanic_age_df['Parch'])>0\n",
    "titanic_age_df.groupby(['is_child','is_parch']).apply(survive_rate)"
   ]
  },
  {
   "cell_type": "markdown",
   "metadata": {},
   "source": [
    "Assuming adults who has parents or children are parents, the survival rate as parents (52%) is hight than otherwise (35%). "
   ]
  },
  {
   "cell_type": "markdown",
   "metadata": {},
   "source": [
    "Let's look at the breakdown of counts and survival rates for age group, gender group and whether they are parents or children."
   ]
  },
  {
   "cell_type": "code",
   "execution_count": null,
   "metadata": {
    "collapsed": false
   },
   "outputs": [],
   "source": [
    "print 'Counts:'\n",
    "print titanic_age_df.groupby(['is_child','Sex','is_parch']).apply(len)\n",
    "print '\\nSurvival rate:'\n",
    "print titanic_age_df.groupby(['is_child','Sex','is_parch']).apply(survive_rate)"
   ]
  },
  {
   "cell_type": "markdown",
   "metadata": {},
   "source": [
    "Observations:\n",
    "1. For female adults, whether someone is a parent or not does not affect survival rate.\n",
    "2. For male adults, it is slightly higher. \n",
    "3. For young girls, the survival rates were even higher for girls without parent. \n",
    "4. For young boys, the ones with parents were more likely to survive.\n",
    "\n",
    "\n",
    "It is interesting to notice that there were 17 girls and 15 boys (of age <18) were on board without a parent. One would assume these are older childrens, possibly teens. The statistics are shown as follows:"
   ]
  },
  {
   "cell_type": "code",
   "execution_count": null,
   "metadata": {
    "collapsed": false
   },
   "outputs": [],
   "source": [
    "print children_df[children_df['Parch']==0]['Age'].mean()"
   ]
  },
  {
   "cell_type": "markdown",
   "metadata": {},
   "source": [
    "Indeed, the average age of these children is 15.3 years. Now we look at the statistics:"
   ]
  },
  {
   "cell_type": "code",
   "execution_count": null,
   "metadata": {
    "collapsed": false
   },
   "outputs": [],
   "source": [
    "print 'Counts:'\n",
    "print children_df[children_df['Parch']==0].groupby(['Pclass','Sex'])['Age'].apply(len)\n",
    "print '\\nAverage Age:'\n",
    "print children_df[children_df['Parch']==0].groupby(['Pclass','Sex'])['Age'].mean()\n",
    "print '\\nThe survival rates are:'\n",
    "print children_df[children_df['Parch']==0].groupby(['Pclass','Sex']).apply(survive_rate)\n"
   ]
  },
  {
   "cell_type": "markdown",
   "metadata": {},
   "source": [
    "This probably means, in the 1910s, people of age more than 15 are considered adults. Majority of the these 'young adults' were in the lower passenger classes. The survival rate for the males among them are extremely low: 0% in the third class and 15% in the third class. "
   ]
  },
  {
   "cell_type": "markdown",
   "metadata": {},
   "source": [
    "### 5. Confidence of Analysis\n",
    "\n",
    "\n",
    "According to online resource (http://www.historyonthenet.com/titanic/passengers.htm) there were 1316 passengers on board,  of which 498 survived. \n",
    "\n",
    "In this study we have a sample of 891 passengers. In order to understand whether the data is representative to the whole passenger population, here is the calculation of confidence interval:\n"
   ]
  },
  {
   "cell_type": "code",
   "execution_count": null,
   "metadata": {
    "collapsed": false
   },
   "outputs": [],
   "source": [
    "import scipy.stats as st\n",
    "\n",
    "def confidence_interval(data,confidence_level,n,n_pop,tail):\n",
    "    n_corr=n*(n_pop-1)/(n_pop-n)\n",
    "    if tail==2:\n",
    "        p=1-(1-confidence_level)/2\n",
    "        return st.norm.ppf(p)*data.std(ddof=0)/sqrt(n_corr)\n",
    "    elif tail==1:\n",
    "        return st.norm.ppf(confidence_level)*data.std(ddof=0)/sqrt(n_corr)\n",
    "    else:\n",
    "        print \"tail has to be 1 or 2\"\n",
    "        return\n",
    "\n",
    "print 'The confident interval of survival rate is {:0,.2f}%.'\\\n",
    "        .format(100*confidence_interval(titanic_df['Survived'], 0.95, 891,1316,2))\n",
    "\n",
    "#"
   ]
  },
  {
   "cell_type": "markdown",
   "metadata": {},
   "source": [
    "Confidence interval of confidence level 95% for survival rate is 0.018 or 1.8%. This means, with the survival rate of 38.4% of the sample group of size 891,  the we are 95% sure the survival rate for all passengers on board Titanic is between 36.6% and 40.2%. Actually according to http://www.historyonthenet.com/titanic/passengers.htm, total number of passengers survived is 498. So the population survival rate is indeed around 38%, which is within the confidence interval. This means the size of the sample is big enough to represent the survival rate of the whole passenger population on board.\n",
    "\n",
    "The same method can be applied to study the gender composition, pclass distribution and age distribution. "
   ]
  },
  {
   "cell_type": "markdown",
   "metadata": {},
   "source": [
    "## Step IV: Conclusions\n",
    "\n",
    "The results from data analysis can be summaried as:  \n",
    "1. The survivale rate of female is much higher than male.\n",
    "\n",
    "2. Childrens are more likely to survive in each passenger class, but not overall. This is due to more children were located in the third class. (Note there are 177 records missing age info, these entries had been excluded from analysis concerning ages.)\n",
    "\n",
    "3. First class passenger are more likely to survive than those in second and third.\n",
    "\n",
    "4. Having a family number slightly increase the survial rate.\n",
    "\n",
    "5. The confidence interval for survival rate of overall group is 1.8%. This agrees with the actual number of the whole population of passengers on Titanic."
   ]
  },
  {
   "cell_type": "markdown",
   "metadata": {},
   "source": [
    "### Interesting Discoveries:\n",
    "\n",
    "1. Among all passengers, the female in first class has the highest survival rate (97%), and the male adults in the second class has the lowest (6%).\n",
    "2. Most young children were in the third class. Only 37% of these young people survived. However, as 18 years old or younger, there is no difference in survival rate if he/she is in first or second class.\n",
    "3. There are some teenagers travelling without parents. In the 1910s, a 15 year-old might have been considered an adult. The average age of the boys is 15.7 years old, and survival rate among the males is only 13%. This implies that they were considered as adults while setting priorities to get onto the lifeboats.\n",
    "4. The oldest person in the group is 80 years old Mr. Barkworth. He was a first class passenger and survived the disaster. At the end of this project, I was curious enough to search his story online, but found it was actually a mistake on the record of his age. He should have been 47 years old at the time of Titanic sink. He indeed lived until 80 years old, but that was when he died 33 years later. Maybe I should have corrected this mistake at the beginning of the data analysis. "
   ]
  },
  {
   "cell_type": "markdown",
   "metadata": {
    "collapsed": true
   },
   "source": [
    "### Limitations of Analysis:\n",
    "\n",
    "1. The analysis is based on a limit sample among the whole passenger population. Especially those with names recorded. This might potentially pose a bias towards selecting first class passengers, who are socially better known, and those who have survived family members.\n",
    "\n",
    "2. The dataset does not represent the whole population on board RM Titanic, because there were also 913 crew members on board, which survival rate is lower than passengers. So analysis on passenger population alone is not complete for consideration of evacuation capacity."
   ]
  },
  {
   "cell_type": "markdown",
   "metadata": {},
   "source": [
    "### Furture Research:\n",
    "\n",
    "1. What cabin location gives passengers more chance of survival? Are these cabins close to lifeboat stations? This could be further explored, especially for the third class passenger. This could be useful for designing evacuation plan of the vessel.\n",
    "\n",
    "2. How many women lost their husbands from Titanic? How many children lost their fathers? From the last names of the passengers, families could be identified. Further Analysis could be done to extract the \"sad\" statistics."
   ]
  },
  {
   "cell_type": "code",
   "execution_count": null,
   "metadata": {
    "collapsed": true
   },
   "outputs": [],
   "source": []
  }
 ],
 "metadata": {
  "anaconda-cloud": {},
  "kernelspec": {
   "display_name": "Python [Root]",
   "language": "python",
   "name": "Python [Root]"
  },
  "language_info": {
   "codemirror_mode": {
    "name": "ipython",
    "version": 2
   },
   "file_extension": ".py",
   "mimetype": "text/x-python",
   "name": "python",
   "nbconvert_exporter": "python",
   "pygments_lexer": "ipython2",
   "version": "2.7.12"
  }
 },
 "nbformat": 4,
 "nbformat_minor": 0
}
